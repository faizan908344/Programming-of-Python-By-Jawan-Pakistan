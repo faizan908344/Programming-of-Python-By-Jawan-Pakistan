{
 "cells": [
  {
   "cell_type": "code",
   "execution_count": 2,
   "id": "b7d2149a",
   "metadata": {},
   "outputs": [
    {
     "name": "stdout",
     "output_type": "stream",
     "text": [
      "=====================================================\n",
      "                 STUDENT MARKSHEET                   \n",
      "=====================================================\n",
      "STUDENT NAME IS: MUHAMMAD FAIZAN\n",
      "FATHER NAME IS: MUHAMMAD ARIF\n",
      "STUDENT AGE IS: 20 YEARS\n",
      "STUDENT ROLL NO: JP12785\n",
      "SUBJECT: ASSIGNMENT NO 02 OF PYTHON PROGRAMMING\n",
      "INSTITUTION IS: ONLINE JAWAN PAKISTAN\n",
      "=====================================================\n",
      "THE MARKS IN ENGLISH IS: 70\n",
      "THE MARKS IN MATHEMATICS IS: 85\n",
      "THE MARKS IN ISLAMIAT: 80\n",
      "THE TOTAL MARKS OBTAINED IS:  235 OUT OF 300\n",
      "THE PERCENTAGE STUDENT OBTAINED IS: 78.33333333333333 OUT OF 100%\n",
      "THE STUDENT GRADE IS: GRADE A\n",
      "=====================================================\n"
     ]
    }
   ],
   "source": [
    "print('=====================================================');\n",
    "print('                 STUDENT MARKSHEET                   ');\n",
    "print('=====================================================');\n",
    "print('STUDENT NAME IS: MUHAMMAD FAIZAN');\n",
    "print('FATHER NAME IS: MUHAMMAD ARIF');\n",
    "print('STUDENT AGE IS: 20 YEARS');\n",
    "print('STUDENT ROLL NO: JP12785');\n",
    "print('SUBJECT: ASSIGNMENT NO 02 OF PYTHON PROGRAMMING');\n",
    "print('INSTITUTION IS: ONLINE JAWAN PAKISTAN');\n",
    "print('=====================================================');\n",
    "english = 70; islamiat = 80; maths = 85; \n",
    "print(\"THE MARKS IN ENGLISH IS:\", + english); \n",
    "print(\"THE MARKS IN MATHEMATICS IS:\", + maths);\n",
    "print(\"THE MARKS IN ISLAMIAT:\", + islamiat);\n",
    "total = english + maths + islamiat;\n",
    "print('THE TOTAL MARKS OBTAINED IS: ', + total, 'OUT OF 300');\n",
    "percentage = ((total)/300)*100;\n",
    "print('THE PERCENTAGE STUDENT OBTAINED IS:', +percentage, \"OUT OF 100%\");\n",
    "if percentage < 100 and percentage > 80:\n",
    "    print(\"THE STUDENT GRADE IS: GRADE A+\");\n",
    "elif percentage < 80 and percentage > 70:\n",
    "    print(\"THE STUDENT GRADE IS: GRADE A\");\n",
    "elif percentage < 70 and percentage > 60:\n",
    "    print(\"THE STUDENT GRADE IS: GRADE B\");\n",
    "elif percentage < 60 and percentage > 50:\n",
    "    print(\"THE STUDENT GRADE IS: GRADE C\");\n",
    "elif percentage < 50 and percentage > 40:\n",
    "    print(\"THE STUDENT GRADE IS: GRADE A\");\n",
    "elif percentage < 40 and percentage > 0:\n",
    "    print(\"SORRY! YOU ARE FAIL\");\n",
    "else:\n",
    "    print('IDIOT!!!!! PLEASE ENTER THE APPROPRIATE PERCENTAGE');\n",
    "print('=====================================================');"
   ]
  },
  {
   "cell_type": "code",
   "execution_count": null,
   "id": "a192cee7",
   "metadata": {},
   "outputs": [],
   "source": []
  }
 ],
 "metadata": {
  "kernelspec": {
   "display_name": "Python 3",
   "language": "python",
   "name": "python3"
  },
  "language_info": {
   "codemirror_mode": {
    "name": "ipython",
    "version": 3
   },
   "file_extension": ".py",
   "mimetype": "text/x-python",
   "name": "python",
   "nbconvert_exporter": "python",
   "pygments_lexer": "ipython3",
   "version": "3.8.8"
  }
 },
 "nbformat": 4,
 "nbformat_minor": 5
}
